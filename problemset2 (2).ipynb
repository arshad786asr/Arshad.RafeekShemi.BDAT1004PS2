{
 "cells": [
  {
   "cell_type": "markdown",
   "id": "2dc43edc",
   "metadata": {},
   "source": [
    "Question1) Final value of a will be 6. since a is defined as a global variable it can be modified by the function c(). so after three calls the value of a will be 0+2+2+2 = 6. "
   ]
  },
  {
   "cell_type": "code",
   "execution_count": null,
   "id": "87465a16",
   "metadata": {},
   "outputs": [],
   "source": []
  },
  {
   "cell_type": "code",
   "execution_count": 1,
   "id": "bb476924",
   "metadata": {},
   "outputs": [
    {
     "data": {
      "text/plain": [
       "6"
      ]
     },
     "execution_count": 1,
     "metadata": {},
     "output_type": "execute_result"
    }
   ],
   "source": [
    "a = 0\n",
    "def b():\n",
    " global a\n",
    " a = c(a)\n",
    "def c(a):\n",
    " return a + 2\n",
    "\n",
    "b()\n",
    "b()\n",
    "b()\n",
    "a"
   ]
  },
  {
   "cell_type": "markdown",
   "id": "59acc5e7",
   "metadata": {},
   "source": [
    "Question2)"
   ]
  },
  {
   "cell_type": "code",
   "execution_count": 3,
   "id": "e6650772",
   "metadata": {},
   "outputs": [
    {
     "name": "stdout",
     "output_type": "stream",
     "text": [
      "file idterm.py not found!\n"
     ]
    }
   ],
   "source": [
    "def file_length(file_name):\n",
    "    try:\n",
    "        file = open(file_name)\n",
    "        contents = file.read()\n",
    "        file.close()\n",
    "        print(len(contents))\n",
    "    except:\n",
    "        print(\"file \"+file_name+\" not found!\")\n",
    "file_length(\"idterm.py\")"
   ]
  },
  {
   "cell_type": "markdown",
   "id": "f863e4ef",
   "metadata": {},
   "source": [
    "Question3)"
   ]
  },
  {
   "cell_type": "code",
   "execution_count": 2,
   "id": "5f1c1511",
   "metadata": {},
   "outputs": [
    {
     "data": {
      "text/plain": [
       "['doll', 'firetruck', 'kitten']"
      ]
     },
     "execution_count": 2,
     "metadata": {},
     "output_type": "execute_result"
    }
   ],
   "source": [
    "class Marsupial:\n",
    "    def __init__(self):\n",
    "        self.a=[]\n",
    "    def put_in_pouch(self,content):\n",
    "        self.a.append(content)\n",
    "    def pouch_contents(self):\n",
    "        return self.a\n",
    "\n",
    "        \n",
    "m = Marsupial()\n",
    "m.put_in_pouch('doll')\n",
    "m.put_in_pouch('firetruck')\n",
    "m.put_in_pouch('kitten')\n",
    "m.pouch_contents()"
   ]
  },
  {
   "cell_type": "code",
   "execution_count": 4,
   "id": "a9814014",
   "metadata": {},
   "outputs": [
    {
     "name": "stdout",
     "output_type": "stream",
     "text": [
      "I am a Kangaroo located at coordinates (0,0)\n",
      "I am a Kangaroo located at coordinates (3,0)\n"
     ]
    }
   ],
   "source": [
    "class Marsupial:\n",
    "    def __init__(self):\n",
    "        self.a=[]\n",
    "    def put_in_pouch(self,content):\n",
    "        self.a.append(content)\n",
    "    def pouch_contents(self):\n",
    "        return self.a\n",
    "\n",
    "class Kangaroo(Marsupial):\n",
    "    def __init__(self,x,y):\n",
    "        Marsupial.__init__(self)\n",
    "        self.x=x\n",
    "        self.y=y\n",
    "    def Jump(self,dx,dy):\n",
    "        self.x+=dx\n",
    "        self.y+=self.y+dy\n",
    "    def __str__(self):\n",
    "        return(\"I am a Kangaroo located at coordinates ({},{})\".format(self.x,self.y))\n",
    "        \n",
    "m = Marsupial()\n",
    "m.put_in_pouch('doll')\n",
    "m.put_in_pouch('firetruck')\n",
    "m.put_in_pouch('kitten')\n",
    "m.pouch_contents()\n",
    "\n",
    "k = Kangaroo(0,0)\n",
    "print(k) \n",
    "k.put_in_pouch('doll') \n",
    "k.put_in_pouch('firetruck')\n",
    "k.put_in_pouch('kitten')\n",
    "k.pouch_contents()\n",
    "k.Jump(1,0)\n",
    "k.Jump(1,0)\n",
    "k.Jump(1,0)\n",
    "print(k)"
   ]
  },
  {
   "cell_type": "markdown",
   "id": "d01a55a9",
   "metadata": {},
   "source": [
    "Question4)"
   ]
  },
  {
   "cell_type": "code",
   "execution_count": 5,
   "id": "d143814b",
   "metadata": {},
   "outputs": [
    {
     "name": "stdout",
     "output_type": "stream",
     "text": [
      "10\n",
      "5\n",
      "16\n",
      "8\n",
      "4\n",
      "2\n",
      "1\n"
     ]
    }
   ],
   "source": [
    "def collatz(x):\n",
    "    if(x != 1):\n",
    "        print(x ,end ='\\n')\n",
    "    if(x == 1):\n",
    "        print(x ,end ='\\n')\n",
    "        return x\n",
    "    if(x%2 == 0):\n",
    "        x = x // 2\n",
    "        collatz(x)\n",
    "    else:\n",
    "        x= 3*x + 1\n",
    "        collatz(x)\n",
    "collatz(10)"
   ]
  },
  {
   "cell_type": "markdown",
   "id": "213414af",
   "metadata": {},
   "source": [
    "Question5)"
   ]
  },
  {
   "cell_type": "code",
   "execution_count": 7,
   "id": "e4ddb49d",
   "metadata": {},
   "outputs": [
    {
     "name": "stdout",
     "output_type": "stream",
     "text": [
      "0\n",
      "1\n",
      "11\n",
      "1001\n"
     ]
    }
   ],
   "source": [
    "dectobin =\"\"\n",
    "def binary (n):\n",
    "    global dectobin\n",
    "    if(n!=1):\n",
    "        if(n==0):\n",
    "            print(\"0\")\n",
    "        else:\n",
    "            temp=\"\"\n",
    "            remainder = int(n%2)\n",
    "            temp =str(remainder)\n",
    "            dectobin+=temp\n",
    "            n =int(n/2)\n",
    "            binary(n)\n",
    "    else:\n",
    "        dectobin +=\"1\"\n",
    "        dectobin = dectobin [::-1] \n",
    "        print(dectobin)\n",
    "        dectobin=\"\"\n",
    "        \n",
    "binary(0)\n",
    "binary(1)\n",
    "binary(3)\n",
    "binary(9)"
   ]
  },
  {
   "cell_type": "markdown",
   "id": "755498f6",
   "metadata": {},
   "source": [
    "Question6)"
   ]
  },
  {
   "cell_type": "code",
   "execution_count": 10,
   "id": "82a7227e",
   "metadata": {},
   "outputs": [
    {
     "name": "stdout",
     "output_type": "stream",
     "text": [
      "W3C Mission\n",
      " Principles\n"
     ]
    }
   ],
   "source": [
    "from urllib.parse import urljoin\n",
    "from html.parser import HTMLParser\n",
    "from urllib.request import urlopen\n",
    "\n",
    "head1='False'\n",
    "head2='False'\n",
    "class HeadingParser(HTMLParser):  \n",
    "    def handle_starttag(self, tag, attributes):\n",
    "        if tag == 'h1':\n",
    "            global head1\n",
    "            head1 = \"True\"  \n",
    "        if tag == 'h2':\n",
    "            global head2\n",
    "            head2 = \"True\"\n",
    "        \n",
    "    def handle_endtag(self, tag):\n",
    "        if head1 == \"False\":\n",
    "            pass  \n",
    "        if head2 == \"False\":\n",
    "            pass\n",
    "        \n",
    "    def handle_data(self, data):\n",
    "        global head1,head2     \n",
    "        if head1 == \"True\":\n",
    "            print(data)\n",
    "            head1='False'       \n",
    "        if head2 == \"True\":\n",
    "            print(' ',end='')\n",
    "            print(data)\n",
    "            head2 = 'False'\n",
    "\n",
    "infile = open('w3c.html') \n",
    "content = infile.read() \n",
    "infile.close() \n",
    "hp = HeadingParser() \n",
    "hp.feed(content) "
   ]
  },
  {
   "cell_type": "code",
   "execution_count": null,
   "id": "0c611ed1",
   "metadata": {},
   "outputs": [],
   "source": []
  },
  {
   "cell_type": "code",
   "execution_count": null,
   "id": "0424e971",
   "metadata": {},
   "outputs": [],
   "source": []
  },
  {
   "cell_type": "markdown",
   "id": "7ae87843",
   "metadata": {},
   "source": [
    "Question7)"
   ]
  },
  {
   "cell_type": "code",
   "execution_count": 14,
   "id": "1b115815",
   "metadata": {},
   "outputs": [
    {
     "name": "stdout",
     "output_type": "stream",
     "text": [
      "http://reed.cs.depaul.edu/lperkovic/test1.html\n",
      " http://reed.cs.depaul.edu/lperkovic/test2.html\n",
      "  http://reed.cs.depaul.edu/lperkovic/test4.html\n",
      " http://reed.cs.depaul.edu/lperkovic/test3.html\n",
      "  http://reed.cs.depaul.edu/lperkovic/test4.html\n"
     ]
    }
   ],
   "source": [
    "from urllib.request import urlopen\n",
    "from urllib.parse import urljoin\n",
    "from html.parser import HTMLParser\n",
    "\n",
    "class Collect(HTMLParser):\n",
    "\n",
    "    def __init__(self, given_URL):\n",
    "        \n",
    "        HTMLParser.__init__(self)\n",
    "        self.givenURL = given_URL\n",
    "        self.availableLinks = []\n",
    "\n",
    "    def handle_starttag(self, tag, attrs):\n",
    "        if tag == 'a':\n",
    "            for attr in attrs:          \n",
    "                if attr[0] == 'href': \n",
    "                    absolute = urljoin(self.givenURL, attr[1])\n",
    "                    if absolute[:4] == 'http':\n",
    "                        self.availableLinks.append(absolute)\n",
    "\n",
    "    def getLinks(self):\n",
    "        return self.availableLinks\n",
    "\n",
    "allLinks = []\n",
    "def webdir(given_URL,depth,index):\n",
    "    global allLinks\n",
    "    resource = urlopen(given_URL)\n",
    "    content = resource.read().decode()\n",
    "    collect = Collect(given_URL)\n",
    "    collect.feed(content)\n",
    "    allLinks = collect.getLinks()\n",
    "    print(index*\" \" + given_URL)\n",
    "    if depth == 0:\n",
    "         return \n",
    "    for i in allLinks: \n",
    "        webdir(i, depth-1, index+1)    \n",
    "            \n",
    "webdir('http://reed.cs.depaul.edu/lperkovic/test1.html',2,0) "
   ]
  },
  {
   "cell_type": "markdown",
   "id": "b00d1869",
   "metadata": {},
   "source": [
    "Question8)"
   ]
  },
  {
   "cell_type": "code",
   "execution_count": null,
   "id": "fa96bf64",
   "metadata": {},
   "outputs": [],
   "source": []
  },
  {
   "cell_type": "code",
   "execution_count": 15,
   "id": "cc74edc8",
   "metadata": {},
   "outputs": [
    {
     "name": "stdout",
     "output_type": "stream",
     "text": [
      "('Mumbai', 'India', 'Winter', 24.8, 5.9)\n",
      "('Mumbai', 'India', 'Spring', 28.4, 16.2)\n",
      "('Mumbai', 'India', 'Summer', 27.9, 1549.4)\n",
      "('Mumbai', 'India', 'Fall', 27.6, 346.0)\n",
      "('London', 'United Kingdom', 'Winter', 4.2, 207.7)\n",
      "('London', 'United Kingdom', 'Spring', 8.3, 169.6)\n",
      "('London', 'United Kingdom', 'Summer', 15.7, 157.0)\n",
      "('London', 'United Kingdom', 'Fall', 10.4, 218.5)\n",
      "('Cairo', 'Egypt', 'Winter', 13.6, 16.5)\n",
      "('Cairo', 'Egypt', 'Spring', 20.7, 6.5)\n",
      "('Cairo', 'Egypt', 'Summer', 27.7, 0.1)\n",
      "('Cairo', 'Egypt', 'Fall', 22.2, 4.5)\n"
     ]
    }
   ],
   "source": [
    "import sqlite3\n",
    "sqliteConnection = sqlite3.connect('arshad2.db')\n",
    "cur = sqliteConnection.cursor()\n",
    "cur.execute(\"CREATE TABLE season (City text, Country text, Season text, Temperature float, Rainfall float)\")\n",
    "lst=[('Mumbai', 'India','Winter',24.8, 5.9),('Mumbai','India','Spring',28.4,16.2),('Mumbai','India','Summer',27.9,1549.4),\n",
    "     ('Mumbai','India','Fall',27.6,346.0),('London','United Kingdom','Winter',4.2,207.7),\n",
    "     ('London','United Kingdom','Spring',8.3,169.6),('London','United Kingdom','Summer',15.7,157.0),\n",
    "     ('London','United Kingdom','Fall',10.4,218.5),('Cairo','Egypt','Winter',13.6,16.5),('Cairo','Egypt','Spring',20.7,6.5),\n",
    "     ('Cairo','Egypt','Summer',27.7,0.1),('Cairo','Egypt','Fall',22.2,4.5)]\n",
    "for i in lst:\n",
    "    cur.execute(\"INSERT INTO season VALUES (?,?,?,?,?)\",i)\n",
    "    sqliteConnection.commit()\n",
    "sqliteConnection.close()\n",
    "sqliteConnection = sqlite3.connect('arshad2.db')\n",
    "cur = sqliteConnection.cursor()\n",
    "cur.execute('SELECT * FROM season')\n",
    "for i in cur :\n",
    "    print(i)"
   ]
  },
  {
   "cell_type": "markdown",
   "id": "1f2dd0c7",
   "metadata": {},
   "source": [
    "8a"
   ]
  },
  {
   "cell_type": "code",
   "execution_count": null,
   "id": "e92d61f7",
   "metadata": {},
   "outputs": [],
   "source": []
  },
  {
   "cell_type": "code",
   "execution_count": 16,
   "id": "e81bbfae",
   "metadata": {},
   "outputs": [
    {
     "data": {
      "text/plain": [
       "[(24.8,),\n",
       " (28.4,),\n",
       " (27.9,),\n",
       " (27.6,),\n",
       " (4.2,),\n",
       " (8.3,),\n",
       " (15.7,),\n",
       " (10.4,),\n",
       " (13.6,),\n",
       " (20.7,),\n",
       " (27.7,),\n",
       " (22.2,)]"
      ]
     },
     "execution_count": 16,
     "metadata": {},
     "output_type": "execute_result"
    }
   ],
   "source": [
    "cur.execute('SELECT Temperature FROM season')\n",
    "cur.fetchall()"
   ]
  },
  {
   "cell_type": "code",
   "execution_count": null,
   "id": "c9a2e511",
   "metadata": {},
   "outputs": [],
   "source": []
  },
  {
   "cell_type": "markdown",
   "id": "8890e5f3",
   "metadata": {},
   "source": [
    "8b"
   ]
  },
  {
   "cell_type": "code",
   "execution_count": 17,
   "id": "e611b3fa",
   "metadata": {},
   "outputs": [
    {
     "data": {
      "text/plain": [
       "[('Mumbai',), ('London',), ('Cairo',)]"
      ]
     },
     "execution_count": 17,
     "metadata": {},
     "output_type": "execute_result"
    }
   ],
   "source": [
    "cur.execute('SELECT DISTINCT City from season');\n",
    "cur.fetchall()"
   ]
  },
  {
   "cell_type": "code",
   "execution_count": null,
   "id": "0453f345",
   "metadata": {},
   "outputs": [],
   "source": []
  },
  {
   "cell_type": "markdown",
   "id": "7bd2eec1",
   "metadata": {},
   "source": [
    "8c"
   ]
  },
  {
   "cell_type": "code",
   "execution_count": 18,
   "id": "180d763f",
   "metadata": {},
   "outputs": [
    {
     "data": {
      "text/plain": [
       "[('Mumbai', 'India', 'Winter', 24.8, 5.9),\n",
       " ('Mumbai', 'India', 'Spring', 28.4, 16.2),\n",
       " ('Mumbai', 'India', 'Summer', 27.9, 1549.4),\n",
       " ('Mumbai', 'India', 'Fall', 27.6, 346.0)]"
      ]
     },
     "execution_count": 18,
     "metadata": {},
     "output_type": "execute_result"
    }
   ],
   "source": [
    "cur.execute('SELECT * FROM season WHERE Country =\"India\" ')\n",
    "cur.fetchall()"
   ]
  },
  {
   "cell_type": "markdown",
   "id": "7d1bbd13",
   "metadata": {},
   "source": [
    "8d"
   ]
  },
  {
   "cell_type": "code",
   "execution_count": 19,
   "id": "8cf55da0",
   "metadata": {},
   "outputs": [
    {
     "data": {
      "text/plain": [
       "[('Mumbai', 'India', 'Fall', 27.6, 346.0),\n",
       " ('London', 'United Kingdom', 'Fall', 10.4, 218.5),\n",
       " ('Cairo', 'Egypt', 'Fall', 22.2, 4.5)]"
      ]
     },
     "execution_count": 19,
     "metadata": {},
     "output_type": "execute_result"
    }
   ],
   "source": [
    "cur.execute('SELECT * FROM season WHERE Season =\"Fall\" ')\n",
    "cur.fetchall()"
   ]
  },
  {
   "cell_type": "markdown",
   "id": "9ce6cc20",
   "metadata": {},
   "source": [
    "8e"
   ]
  },
  {
   "cell_type": "code",
   "execution_count": 20,
   "id": "5c84a2b2",
   "metadata": {},
   "outputs": [
    {
     "data": {
      "text/plain": [
       "[('Mumbai', 'India', 'Fall', 27.6, 346.0),\n",
       " ('London', 'United Kingdom', 'Winter', 4.2, 207.7),\n",
       " ('London', 'United Kingdom', 'Fall', 10.4, 218.5)]"
      ]
     },
     "execution_count": 20,
     "metadata": {},
     "output_type": "execute_result"
    }
   ],
   "source": [
    "cur.execute('SELECT * FROM season WHERE Rainfall BETWEEN 200 AND 400')\n",
    "cur.fetchall()"
   ]
  },
  {
   "cell_type": "markdown",
   "id": "d81ccb37",
   "metadata": {},
   "source": [
    "8f"
   ]
  },
  {
   "cell_type": "code",
   "execution_count": 21,
   "id": "9f2b4267",
   "metadata": {},
   "outputs": [
    {
     "data": {
      "text/plain": [
       "[('Cairo', 'Egypt'), ('Mumbai', 'India')]"
      ]
     },
     "execution_count": 21,
     "metadata": {},
     "output_type": "execute_result"
    }
   ],
   "source": [
    "cur.execute('SELECT City,Country FROM season WHERE Season=\"Fall\" AND Temperature>20 ORDER BY Temperature ASC  ')\n",
    "cur.fetchall()"
   ]
  },
  {
   "cell_type": "markdown",
   "id": "75c682ce",
   "metadata": {},
   "source": [
    "8g"
   ]
  },
  {
   "cell_type": "code",
   "execution_count": 22,
   "id": "ef395d04",
   "metadata": {},
   "outputs": [
    {
     "data": {
      "text/plain": [
       "[(27.6,)]"
      ]
     },
     "execution_count": 22,
     "metadata": {},
     "output_type": "execute_result"
    }
   ],
   "source": [
    "cur.execute('SELECT SUM(Rainfall) FROM season WHERE City=\"Cairo\" ')\n",
    "cur.fetchall()"
   ]
  },
  {
   "cell_type": "markdown",
   "id": "e1fabd5b",
   "metadata": {},
   "source": [
    "8h"
   ]
  },
  {
   "cell_type": "code",
   "execution_count": 23,
   "id": "b5159108",
   "metadata": {},
   "outputs": [
    {
     "data": {
      "text/plain": [
       "[(569.0,), (192.29999999999998,), (1706.5,), (230.1,)]"
      ]
     },
     "execution_count": 23,
     "metadata": {},
     "output_type": "execute_result"
    }
   ],
   "source": [
    "cur.execute('SELECT SUM(Rainfall) FROM season GROUP BY Season ')\n",
    "cur.fetchall()"
   ]
  },
  {
   "cell_type": "markdown",
   "id": "17fecbad",
   "metadata": {},
   "source": [
    "Question 9"
   ]
  },
  {
   "cell_type": "code",
   "execution_count": 30,
   "id": "74e06a12",
   "metadata": {},
   "outputs": [
    {
     "name": "stdout",
     "output_type": "stream",
     "text": [
      "a)  ['THE', 'QUICK', 'BROWN', 'FOX', 'JUMPS', 'OVER', 'THE', 'LAZY', 'DOG']\n",
      "\n",
      "b)  ['the', 'quick', 'brown', 'fox', 'jumps', 'over', 'the', 'lazy', 'dog']\n",
      "\n",
      "c)  [3, 5, 5, 3, 5, 4, 3, 4, 3]\n",
      "\n",
      "d)  [['THE', 'the', 3], ['QUICK', 'quick', 5], ['BROWN', 'brown', 5], ['FOX', 'fox', 3], ['JUMPS', 'jumps', 5], ['OVER', 'over', 4], ['THE', 'the', 3], ['LAZY', 'lazy', 4], ['DOG', 'dog', 3]]\n",
      "\n",
      "e)  ['The', 'quick', 'brown', 'fox', 'jumps', 'over', 'the', 'lazy', 'dog']\n"
     ]
    }
   ],
   "source": [
    "data1 =['The','quick','brown','fox','jumps','over','the','lazy','dog']\n",
    "\n",
    "data2 = [name.upper() for name in data1]\n",
    "print(\"a) \",end=\" \")\n",
    "print(data2)\n",
    "print()\n",
    "\n",
    "data3 = [name.lower() for name in data1]\n",
    "print(\"b) \",end=\" \")\n",
    "print(data3)\n",
    "print()\n",
    "\n",
    "data4=[]\n",
    "for i in data1:\n",
    "    data4.append(len(i))\n",
    "print(\"c) \",end=\" \")\n",
    "print(data4)\n",
    "print()\n",
    "\n",
    "listall=[]\n",
    "for i in data1:\n",
    "    length=len(i)\n",
    "    cap=i.upper()\n",
    "    small = i.lower()\n",
    "    listx=[]\n",
    "    listx.append(cap)\n",
    "    listx.append(small)\n",
    "    listx.append(length)\n",
    "    listall.append(listx)\n",
    "print(\"d) \",end=\" \")\n",
    "print(listall)\n",
    "print()\n",
    "\n",
    "data5=[]\n",
    "for i in data1:\n",
    "    if len(i)>=3:\n",
    "        data5.append(i)\n",
    "print(\"e) \",end=\" \")\n",
    "print(data5)"
   ]
  },
  {
   "cell_type": "code",
   "execution_count": null,
   "id": "51dda704",
   "metadata": {},
   "outputs": [],
   "source": []
  }
 ],
 "metadata": {
  "kernelspec": {
   "display_name": "Python 3 (ipykernel)",
   "language": "python",
   "name": "python3"
  },
  "language_info": {
   "codemirror_mode": {
    "name": "ipython",
    "version": 3
   },
   "file_extension": ".py",
   "mimetype": "text/x-python",
   "name": "python",
   "nbconvert_exporter": "python",
   "pygments_lexer": "ipython3",
   "version": "3.9.12"
  }
 },
 "nbformat": 4,
 "nbformat_minor": 5
}
